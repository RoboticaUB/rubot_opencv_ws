{
 "metadata": {
  "language_info": {
   "codemirror_mode": {
    "name": "ipython",
    "version": 3
   },
   "file_extension": ".py",
   "mimetype": "text/x-python",
   "name": "python",
   "nbconvert_exporter": "python",
   "pygments_lexer": "ipython3",
   "version": 3
  },
  "orig_nbformat": 2
 },
 "nbformat": 4,
 "nbformat_minor": 2,
 "cells": [
  {
   "source": [
    "## ROS OpenCV performance exemples"
   ],
   "cell_type": "markdown",
   "metadata": {}
  },
  {
   "source": [
    "### Open and save Image files"
   ],
   "cell_type": "markdown",
   "metadata": {}
  },
  {
   "source": [
    "There is an exemple to open and copy an image from a PC folder \"images\""
   ],
   "cell_type": "markdown",
   "metadata": {}
  },
  {
   "cell_type": "code",
   "execution_count": null,
   "metadata": {},
   "outputs": [],
   "source": [
    "#!/usr/bin/env python\n",
    "\n",
    "#import numpy: the data structure that will handle an image\n",
    "import numpy as np\n",
    "\n",
    "#import openCV\n",
    "import cv2\n",
    " \n",
    "\n",
    "image_name = \"flower\"\n",
    "\n",
    "print 'read an image from file'\n",
    "img = cv2.imread(\"images/\"+image_name+\".jpg\")\n",
    "\n",
    "print 'create a window holder for the image'\n",
    "cv2.namedWindow(\"Image\",cv2.WINDOW_NORMAL)\n",
    "\n",
    "print 'display the image'\n",
    "cv2.imshow(\"Image\",img)\n",
    "\n",
    "print 'press a key inside the image to make a copy'\n",
    "cv2.waitKey(0)\n",
    "\n",
    "print 'image copied to folder images/copy/'\n",
    "cv2.imwrite(\"images/copy/\"+image_name+\"-copy.jpg\",img)"
   ]
  },
  {
   "source": [
    "### Pixels and Image structure"
   ],
   "cell_type": "markdown",
   "metadata": {}
  },
  {
   "source": [
    "Take the following \"image_structure.py\" python script to see the structure of an image"
   ],
   "cell_type": "markdown",
   "metadata": {}
  },
  {
   "cell_type": "code",
   "execution_count": null,
   "metadata": {},
   "outputs": [],
   "source": [
    "#!/usr/bin/env python\n",
    "\n",
    "#import numpy: the data structure that will handle an image\n",
    "import numpy as np\n",
    "\n",
    "#import openCV\n",
    "import cv2\n",
    "\n",
    "image_name = \"blackwhite\"\n",
    "\n",
    "print 'read an image from file'\n",
    "img = cv2.imread(\"images/\"+image_name+\".jpg\")\n",
    "\n",
    "print 'display the content of the image'\n",
    "print img\n",
    "print 'In Python, an image is stored in a numpy array. Numpy is library used for scientific computing of multi-dimensional arrays and matrices.'\n",
    "\n",
    "print 'we can determine several features of the images using numpy array properties'\n",
    "print 'type of an image type(img): %s'%type(img)\n",
    "print 'size of the image img.size: %d'%img.size\n",
    "print 'length of the image (number of pixel in the vertical direction) len(img): %d'%len(img)\n",
    "print 'shape of an image (length in pixe, width in pixel, number of color) img.shape (%d,%d,%d)'%img.shape\n",
    "print 'image length (also height) img.shape[0]: %d'%img.shape[0]\n",
    "print 'image width img.shape[1]: %d'%img.shape[1]\n",
    "\n",
    "height, width, channels = img.shape\n",
    "print 'height = %d'%height\n",
    "print 'width = %d'%width\n",
    "print 'channels = %d'%channels\n",
    "\n",
    "print 'number of colors per pixel img.shape[2]: %d'%img.shape[2]\n",
    "print 'number of pixels: %d'%(img.shape[0]*img.shape[1])\n",
    "print 'type of the image img.dtype: %s'%img.dtype\n",
    "print 'sub-image at row [10] (img[10])'\n",
    "print (img[10])\n",
    "print 'shape of sub-image at row [0] (img[10].shape)'\n",
    "print (img[10].shape)\n",
    "print 'pixel at raw 10 and column 5 (img[10, 5])'\n",
    "print (img[10, 5])\n",
    "print (img[10] [5])\n",
    "print 'pixel at raw 0 and column 0 (img[0, 0])'\n",
    "print (img[0, 0])\n",
    "print (img[0] [0])\n",
    "\n",
    "print 'you can see a single channel in the image, for example only the first channel'\n",
    "print (img[:, :, 0])"
   ]
  },
  {
   "source": [
    "### Image encoding"
   ],
   "cell_type": "markdown",
   "metadata": {}
  },
  {
   "source": [
    "There are 3 different encodings:\n",
    "\n",
    "- grayscale\n",
    "- Red-Green_Blue (RGB)\n",
    "- Hue (color in 36º), Saturation, Value (brightness)(HSV)\n",
    "\n",
    "Let's see the \"image_encoding.py\" file"
   ],
   "cell_type": "markdown",
   "metadata": {}
  },
  {
   "cell_type": "code",
   "execution_count": null,
   "metadata": {},
   "outputs": [],
   "source": [
    "#!/usr/bin/env python \n",
    "\n",
    "import numpy as np\n",
    "import cv2\n",
    "\n",
    "\n",
    "image_name = \"tree\"\n",
    "\n",
    "print 'read an image from file'\n",
    "color_image = cv2.imread(\"images/tree.jpg\",cv2.IMREAD_COLOR)\n",
    "\n",
    "print 'display image in native color'\n",
    "cv2.imshow(\"Original Image\",color_image)\n",
    "cv2.moveWindow(\"Original Image\",0,0)\n",
    "print(color_image.shape)\n",
    "\n",
    "height,width,channels = color_image.shape\n",
    "\n",
    "print 'slipt the image into three channels.'\n",
    "blue,green,red = cv2.split(color_image)\n",
    "\n",
    "cv2.imshow(\"Blue Channel\",blue)\n",
    "cv2.moveWindow(\"Blue Channel\",0,height)\n",
    "\n",
    "cv2.imshow(\"Red Channel\",red)\n",
    "cv2.moveWindow(\"Red Channel\",0,height)\n",
    "\n",
    "cv2.imshow(\"Greeen Channel\",green)\n",
    "cv2.moveWindow(\"Green Channel\",0,height)\n",
    "\n",
    "\n",
    "# Hue: indicates the type of color that we see in a 360 degree format.\n",
    "# Saturation: an indication of how saturated an individual color is \n",
    "# Value: indicates how luminous the channel is. \n",
    "\n",
    "print '---- slipt the image into Hue, Saturation, Value channels.----- '\n",
    "hsv = cv2.cvtColor(color_image, cv2.COLOR_BGR2HSV)\n",
    "h,s,v = cv2.split(hsv)\n",
    "hsv_image = np.concatenate((h,s,v),axis=1)\n",
    "cv2.imshow(\"Hue, Saturation, Value Image\",hsv_image)\n",
    "cv2.imshow(\"HSV Image\",hsv)\n",
    "\n",
    "\n",
    "print '------ converts an image to a grayscale ------'\n",
    "gray_image = cv2.cvtColor(color_image, cv2.COLOR_BGR2GRAY)\n",
    "cv2.imshow(\"Gray Image \",gray_image)\n",
    "\n",
    "print gray_image\n",
    "\n",
    "cv2.waitKey(0)\n",
    "cv2.destroyAllWindows()"
   ]
  },
  {
   "source": [
    "### Video Stream"
   ],
   "cell_type": "markdown",
   "metadata": {}
  },
  {
   "source": [
    "Consider the \"read_video.py\" file and make changes for video from USB camera:"
   ],
   "cell_type": "markdown",
   "metadata": {}
  },
  {
   "cell_type": "code",
   "execution_count": null,
   "metadata": {},
   "outputs": [],
   "source": [
    "#!/usr/bin/env python \n",
    "import numpy as np\n",
    "import cv2\n",
    "\n",
    "video_capture = cv2.VideoCapture(0)\n",
    "#video_capture = cv2.VideoCapture('video/ros.mp4')\n",
    "\n",
    "while(True):\n",
    "\tret, frame = video_capture.read()\n",
    "\t\n",
    "\t#frame = cv2.cvtColor(frame, cv2.COLOR_BGR2GRAY)\n",
    "\t#frame = cv2.resize(frame, (0,0), fx=0.5,fy=0.5)\n",
    "\t#cv2.line(frame,(0,0),(511,511),(255,0,0),5)\n",
    "\tcv2.imshow(\"Frame\",frame)\n",
    "\tif cv2.waitKey(1) & 0xFF == ord('q'):\n",
    "\t\tbreak\n",
    "\n",
    "video_capture.release()\n",
    "cv2.destroyAllWindows()"
   ]
  },
  {
   "source": [
    "### Drawing Shapes"
   ],
   "cell_type": "markdown",
   "metadata": {}
  },
  {
   "source": [
    "run the \"image_draw.py\" file"
   ],
   "cell_type": "markdown",
   "metadata": {}
  },
  {
   "cell_type": "code",
   "execution_count": null,
   "metadata": {},
   "outputs": [],
   "source": [
    "\n",
    "#!/usr/bin/env python \n",
    "\n",
    "import numpy as np\n",
    "import cv2\n",
    "\n",
    "\n",
    "image = np.zeros((512,512,3), np.uint8)\n",
    "\n",
    "#cv2.circle(image, (image.shape[0]/2, image.shape[1]/2),63, (255,255,255), 5)\n",
    "cv2.line(image,(0,0),(511,511),(255,255,255),5)\n",
    "\n",
    "cv2.rectangle(image,(384,0),(510,128),(0,255,0),3)\n",
    "cv2.ellipse(image,(256,256),(100,50),0,0,180,255,-1)\n",
    "\n",
    "pts = np.array([[10,5],[20,30],[70,20],[50,10]], np.int32)\n",
    "pts = pts.reshape((-1,1,2))\n",
    "cv2.polylines(image,[pts],True,(0,255,255))\n",
    "\n",
    "font = cv2.FONT_HERSHEY_SIMPLEX\n",
    "#cv2.putText(image,'ROS, OpenCV',(10,500), font, 2,(255,255,255),2,cv2.LINE_AA)\n",
    "cv2.putText(image,'OpenCV',(10,500), font, 4,(255,255,255),2)\n",
    "cv2.imshow(\"Image Panel\",image)\n",
    "\n",
    "cv2.waitKey(0)\n",
    "cv2.destroyAllWindows()"
   ]
  }
 ]
}
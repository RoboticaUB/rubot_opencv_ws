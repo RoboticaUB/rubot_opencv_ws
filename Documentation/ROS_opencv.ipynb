{
 "metadata": {
  "language_info": {
   "codemirror_mode": {
    "name": "ipython",
    "version": 3
   },
   "file_extension": ".py",
   "mimetype": "text/x-python",
   "name": "python",
   "nbconvert_exporter": "python",
   "pygments_lexer": "ipython3",
   "version": 3
  },
  "orig_nbformat": 2
 },
 "nbformat": 4,
 "nbformat_minor": 2,
 "cells": [
  {
   "source": [
    "## ROS OpenCV"
   ],
   "cell_type": "markdown",
   "metadata": {}
  },
  {
   "source": [
    "In real applications a robot has to take information of surrounding.\n",
    "\n",
    "A very useful method is from Vision.\n",
    "\n",
    "OpenCV is a worldwide used Open Source Computer Vision Library\n",
    "\n",
    "Image processing and computer vision are key disciplines for this objective."
   ],
   "cell_type": "markdown",
   "metadata": {}
  },
  {
   "source": [
    "### OpenCV install"
   ],
   "cell_type": "markdown",
   "metadata": {}
  },
  {
   "cell_type": "code",
   "execution_count": null,
   "metadata": {},
   "outputs": [],
   "source": [
    "sudo apt-get update\n",
    "sudo apt-get install python-opencv"
   ]
  },
  {
   "source": [
    "To verify the openCV installation type in a terminal:"
   ],
   "cell_type": "markdown",
   "metadata": {}
  },
  {
   "cell_type": "code",
   "execution_count": null,
   "metadata": {},
   "outputs": [],
   "source": [
    "python -c \"import cv2; print(cv2.__version__)\""
   ]
  },
  {
   "source": [
    "The output will be the version installed (3.2.0)\n",
    "\n",
    "If you are in a python shell, you can exit typing: exit()\n",
    "\n",
    "You will need to install numpy and matplotlib python libraries:\n"
   ],
   "cell_type": "markdown",
   "metadata": {}
  },
  {
   "cell_type": "code",
   "execution_count": null,
   "metadata": {},
   "outputs": [],
   "source": [
    "sudo apt install python-pip\n",
    "pip install numpy\n",
    "pip install matplotlib"
   ]
  },
  {
   "source": [
    "#### USB camera install\n",
    "\n",
    "To install a USB cam type"
   ],
   "cell_type": "markdown",
   "metadata": {}
  },
  {
   "cell_type": "code",
   "execution_count": null,
   "metadata": {},
   "outputs": [],
   "source": [
    "sudo apt-get install ros-melodic-usb-cam"
   ]
  },
  {
   "source": [
    "Be sure to have installed the \"image-view\" package"
   ],
   "cell_type": "markdown",
   "metadata": {}
  },
  {
   "cell_type": "code",
   "execution_count": null,
   "metadata": {},
   "outputs": [],
   "source": [
    "sudo apt-get install ros-melodic-image-view"
   ]
  },
  {
   "source": [
    "### Open and save Image files\n",
    "\n",
    "There is an exemple to open and copy an image from a PC folder \"images\""
   ],
   "cell_type": "markdown",
   "metadata": {}
  },
  {
   "cell_type": "code",
   "execution_count": null,
   "metadata": {},
   "outputs": [],
   "source": [
    "#!/usr/bin/env python\n",
    "\n",
    "#import numpy: the data structure that will handle an image\n",
    "import numpy as np\n",
    "\n",
    "#import openCV\n",
    "import cv2\n",
    " \n",
    "\n",
    "image_name = \"flower\"\n",
    "\n",
    "print 'read an image from file'\n",
    "img = cv2.imread(\"images/\"+image_name+\".jpg\")\n",
    "\n",
    "print 'create a window holder for the image'\n",
    "cv2.namedWindow(\"Image\",cv2.WINDOW_NORMAL)\n",
    "\n",
    "print 'display the image'\n",
    "cv2.imshow(\"Image\",img)\n",
    "\n",
    "print 'press a key inside the image to make a copy'\n",
    "cv2.waitKey(0)\n",
    "\n",
    "print 'image copied to folder images/copy/'\n",
    "cv2.imwrite(\"images/copy/\"+image_name+\"-copy.jpg\",img)\n"
   ]
  },
  {
   "source": [
    "### Pixels and Image structure\n",
    "\n",
    "Take the following \"image_structure.py\" python script to see the structure of an image"
   ],
   "cell_type": "markdown",
   "metadata": {}
  },
  {
   "cell_type": "code",
   "execution_count": null,
   "metadata": {},
   "outputs": [],
   "source": [
    "#!/usr/bin/env python\n",
    "\n",
    "#import numpy: the data structure that will handle an image\n",
    "import numpy as np\n",
    "\n",
    "#import openCV\n",
    "import cv2\n",
    "\n",
    "image_name = \"blackwhite\"\n",
    "\n",
    "print 'read an image from file'\n",
    "img = cv2.imread(\"images/\"+image_name+\".jpg\")\n",
    "\n",
    "print 'display the content of the image'\n",
    "print img\n",
    "print 'In Python, an image is stored in a numpy array. Numpy is library used for scientific computing of multi-dimensional arrays and matrices.'\n",
    "\n",
    "print 'we can determine several features of the images using numpy array properties'\n",
    "print 'type of an image type(img): %s'%type(img)\n",
    "print 'size of the image img.size: %d'%img.size\n",
    "print 'length of the image (number of pixel in the vertical direction) len(img): %d'%len(img)\n",
    "print 'shape of an image (length in pixe, width in pixel, number of color) img.shape (%d,%d,%d)'%img.shape\n",
    "print 'image length (also height) img.shape[0]: %d'%img.shape[0]\n",
    "print 'image width img.shape[1]: %d'%img.shape[1]\n",
    "\n",
    "height, width, channels = img.shape\n",
    "print 'height = %d'%height\n",
    "print 'width = %d'%width\n",
    "print 'channels = %d'%channels\n",
    "\n",
    "print 'number of colors per pixel img.shape[2]: %d'%img.shape[2]\n",
    "print 'number of pixels: %d'%(img.shape[0]*img.shape[1])\n",
    "print 'type of the image img.dtype: %s'%img.dtype\n",
    "print 'sub-image at row [10] (img[10])'\n",
    "print (img[10])\n",
    "print 'shape of sub-image at row [0] (img[10].shape)'\n",
    "print (img[10].shape)\n",
    "print 'pixel at raw 10 and column 5 (img[10, 5])'\n",
    "print (img[10, 5])\n",
    "print (img[10] [5])\n",
    "print 'pixel at raw 0 and column 0 (img[0, 0])'\n",
    "print (img[0, 0])\n",
    "print (img[0] [0])\n",
    "\n",
    "print 'you can see a single channel in the image, for example only the first channel'\n",
    "print (img[:, :, 0])\n"
   ]
  },
  {
   "source": [
    "### Image encoding\n",
    "\n",
    "There are 3 different encodings:\n",
    "- grayscale\n",
    "- Red-Green_Blue (RGB)\n",
    "- Hue (color in 36º), Saturation, Value (brightness)(HSV)\n",
    "\n",
    "Let's see the \"image_encoding.py\" file"
   ],
   "cell_type": "markdown",
   "metadata": {}
  },
  {
   "cell_type": "code",
   "execution_count": null,
   "metadata": {},
   "outputs": [],
   "source": [
    "#!/usr/bin/env python \n",
    "\n",
    "import numpy as np\n",
    "import cv2\n",
    "\n",
    "\n",
    "image_name = \"tree\"\n",
    "\n",
    "print 'read an image from file'\n",
    "color_image = cv2.imread(\"images/tree.jpg\",cv2.IMREAD_COLOR)\n",
    "\n",
    "print 'display image in native color'\n",
    "cv2.imshow(\"Original Image\",color_image)\n",
    "cv2.moveWindow(\"Original Image\",0,0)\n",
    "print(color_image.shape)\n",
    "\n",
    "height,width,channels = color_image.shape\n",
    "\n",
    "print 'slipt the image into three channels.'\n",
    "blue,green,red = cv2.split(color_image)\n",
    "\n",
    "cv2.imshow(\"Blue Channel\",blue)\n",
    "cv2.moveWindow(\"Blue Channel\",0,height)\n",
    "\n",
    "cv2.imshow(\"Red Channel\",red)\n",
    "cv2.moveWindow(\"Red Channel\",0,height)\n",
    "\n",
    "cv2.imshow(\"Greeen Channel\",green)\n",
    "cv2.moveWindow(\"Green Channel\",0,height)\n",
    "\n",
    "\n",
    "# Hue: indicates the type of color that we see in a 360 degree format.\n",
    "# Saturation: an indication of how saturated an individual color is \n",
    "# Value: indicates how luminous the channel is. \n",
    "\n",
    "print '---- slipt the image into Hue, Saturation, Value channels.----- '\n",
    "hsv = cv2.cvtColor(color_image, cv2.COLOR_BGR2HSV)\n",
    "h,s,v = cv2.split(hsv)\n",
    "hsv_image = np.concatenate((h,s,v),axis=1)\n",
    "cv2.imshow(\"Hue, Saturation, Value Image\",hsv_image)\n",
    "cv2.imshow(\"HSV Image\",hsv)\n",
    "\n",
    "\n",
    "print '------ converts an image to a grayscale ------'\n",
    "gray_image = cv2.cvtColor(color_image, cv2.COLOR_BGR2GRAY)\n",
    "cv2.imshow(\"Gray Image \",gray_image)\n",
    "\n",
    "print gray_image\n",
    "\n",
    "cv2.waitKey(0)\n",
    "cv2.destroyAllWindows()"
   ]
  },
  {
   "source": [
    "### Video Stream\n",
    "\n",
    "Consider the \"read_video.py\" file and make changes for:\n",
    "- video from USB camera:"
   ],
   "cell_type": "markdown",
   "metadata": {}
  },
  {
   "cell_type": "code",
   "execution_count": null,
   "metadata": {},
   "outputs": [],
   "source": [
    "#!/usr/bin/env python \n",
    "import numpy as np\n",
    "import cv2\n",
    "\n",
    "video_capture = cv2.VideoCapture(0)\n",
    "#video_capture = cv2.VideoCapture('video/ros.mp4')\n",
    "\n",
    "while(True):\n",
    "\tret, frame = video_capture.read()\n",
    "\t\n",
    "\t#frame = cv2.cvtColor(frame, cv2.COLOR_BGR2GRAY)\n",
    "\t#frame = cv2.resize(frame, (0,0), fx=0.5,fy=0.5)\n",
    "\t#cv2.line(frame,(0,0),(511,511),(255,0,0),5)\n",
    "\tcv2.imshow(\"Frame\",frame)\n",
    "\tif cv2.waitKey(1) & 0xFF == ord('q'):\n",
    "\t\tbreak\n",
    "\n",
    "video_capture.release()\n",
    "cv2.destroyAllWindows()"
   ]
  },
  {
   "source": [
    "### Drawing Shapes\n",
    "\n",
    "run the \"image_draw.py\" file"
   ],
   "cell_type": "markdown",
   "metadata": {}
  },
  {
   "cell_type": "code",
   "execution_count": null,
   "metadata": {},
   "outputs": [],
   "source": [
    "#!/usr/bin/env python \n",
    "\n",
    "import numpy as np\n",
    "import cv2\n",
    "\n",
    "\n",
    "image = np.zeros((512,512,3), np.uint8)\n",
    "\n",
    "#cv2.circle(image, (image.shape[0]/2, image.shape[1]/2),63, (255,255,255), 5)\n",
    "cv2.line(image,(0,0),(511,511),(255,255,255),5)\n",
    "\n",
    "cv2.rectangle(image,(384,0),(510,128),(0,255,0),3)\n",
    "cv2.ellipse(image,(256,256),(100,50),0,0,180,255,-1)\n",
    "\n",
    "pts = np.array([[10,5],[20,30],[70,20],[50,10]], np.int32)\n",
    "pts = pts.reshape((-1,1,2))\n",
    "cv2.polylines(image,[pts],True,(0,255,255))\n",
    "\n",
    "font = cv2.FONT_HERSHEY_SIMPLEX\n",
    "#cv2.putText(image,'ROS, OpenCV',(10,500), font, 2,(255,255,255),2,cv2.LINE_AA)\n",
    "cv2.putText(image,'OpenCV',(10,500), font, 4,(255,255,255),2)\n",
    "cv2.imshow(\"Image Panel\",image)\n",
    "\n",
    "cv2.waitKey(0)\n",
    "cv2.destroyAllWindows()"
   ]
  },
  {
   "source": [
    "### CvBridge: Bridging OpenCV and ROS\n",
    "\n",
    "The format of images in OpenCV and ROS are different. \n",
    "\n",
    "http://wiki.ros.org/cv_bridge/Tutorials/ConvertingBetweenROSImagesAndOpenCVImagesPython"
   ],
   "cell_type": "markdown",
   "metadata": {}
  },
  {
   "cell_type": "code",
   "execution_count": null,
   "metadata": {},
   "outputs": [],
   "source": []
  },
  {
   "source": [
    "<img src=\"./Images/1_CvBridge.png\">"
   ],
   "cell_type": "markdown",
   "metadata": {}
  },
  {
   "source": [
    "Here is a node that listens to a ROS image message topic, converts the images into an cv::Mat, draws a circle on it and displays the image using OpenCV. The image is then republished over ROS."
   ],
   "cell_type": "markdown",
   "metadata": {}
  },
  {
   "source": [
    "Let's see the \"image_pub_sub.py\" file to read images from ros and convert them to OpenCV format"
   ],
   "cell_type": "markdown",
   "metadata": {}
  },
  {
   "cell_type": "code",
   "execution_count": null,
   "metadata": {},
   "outputs": [],
   "source": [
    "#!/usr/bin/env python\n",
    "\n",
    "import rospy\n",
    "import cv2\n",
    "from std_msgs.msg import String\n",
    "from sensor_msgs.msg import Image\n",
    "from cv_bridge import CvBridge, CvBridgeError\n",
    "import sys\n",
    "\n",
    "bridge = CvBridge()\n",
    "\n",
    "def image_callback(ros_image):\n",
    "  print 'got an image'\n",
    "  global bridge\n",
    "  #convert ros_image into an opencv-compatible image\n",
    "  try:\n",
    "    cv_image = bridge.imgmsg_to_cv2(ros_image, \"bgr8\")\n",
    "  except CvBridgeError as e:\n",
    "      print(e)\n",
    "  #from now on, you can work exactly like with opencv\n",
    "  (rows,cols,channels) = cv_image.shape\n",
    "  if cols > 200 and rows > 200 :\n",
    "      cv2.circle(cv_image, (100,100),90, 255)\n",
    "  font = cv2.FONT_HERSHEY_SIMPLEX\n",
    "  cv2.putText(cv_image,'Webcam Activated with ROS & OpenCV!',(10,350), font, 1,(255,255,255),2,cv2.LINE_AA)\n",
    "  cv2.imshow(\"Image window\", cv_image)\n",
    "  cv2.waitKey(3)\n",
    "\n",
    "  \n",
    "def main(args):\n",
    "  rospy.init_node('image_converter', anonymous=True)\n",
    "  #for turtlebot3 waffle\n",
    "  #image_topic=\"/camera/rgb/image_raw/compressed\"\n",
    "  #for usb cam\n",
    "  #image_topic=\"/usb_cam/image_raw\"\n",
    "  image_sub = rospy.Subscriber(\"/camera/rgb/image_raw/compressed\",Image, image_callback)\n",
    "  try:\n",
    "    rospy.spin()\n",
    "  except KeyboardInterrupt:\n",
    "    print(\"Shutting down\")\n",
    "  cv2.destroyAllWindows()\n",
    "\n",
    "if __name__ == '__main__':\n",
    "    main(sys.argv)"
   ]
  },
  {
   "source": [
    "We will test it in different environmnets:\n",
    "- turtlebot3 environment in turtlebot3_pc_ws workspace\n",
    "- USB Cam device\n",
    "- gopigo3 robot in gopigo3_rbpi_ws"
   ],
   "cell_type": "markdown",
   "metadata": {}
  },
  {
   "source": [
    "##### Turtlebot3 environment\n",
    "\n",
    "In VS Code, open the turtlebot3_pc_ws and first create a \"rubot_opencv\" package with dependencies "
   ],
   "cell_type": "markdown",
   "metadata": {}
  },
  {
   "cell_type": "code",
   "execution_count": null,
   "metadata": {},
   "outputs": [],
   "source": [
    "catkin_create_pkg rubot_opencv std_msgs sensor_msgs opencv2 cv_bridge rospy"
   ]
  },
  {
   "source": [
    "add the \"image_pub_sub.py\" file in src folder of \"rubot_opencv\" package"
   ],
   "cell_type": "markdown",
   "metadata": {}
  },
  {
   "cell_type": "code",
   "execution_count": null,
   "metadata": {},
   "outputs": [],
   "source": [
    "roslaunch autonomous_robots l1_robot.launch"
   ]
  },
  {
   "source": [
    "Add some objects in gazebo and open rviz to see the image on topic //camera/rgb/image_raw/compressed"
   ],
   "cell_type": "markdown",
   "metadata": {}
  },
  {
   "cell_type": "code",
   "execution_count": null,
   "metadata": {},
   "outputs": [],
   "source": [
    "rosrun autonomous_robots image_pub_sub.py"
   ]
  },
  {
   "source": [
    "the error is:\n",
    "[ERROR] [1609774066.288254296, 244.875000000]: Client [/image_converter_6555_1609774034087] wants topic /camera/rgb/image_raw/compressed to have datatype/md5sum [sensor_msgs/Image/060021388200f6f0f447d0fcd9c64743], but our version has [sensor_msgs/CompressedImage/8f7a12909da2c9d3332d540a0977563f]. Dropping connection."
   ],
   "cell_type": "markdown",
   "metadata": {}
  },
  {
   "source": [
    "#### USB cam device"
   ],
   "cell_type": "markdown",
   "metadata": {}
  },
  {
   "source": [
    "In VS Code, open the rubot_opencv_ws and first create a \"usbcam_opencv\" package with dependencies "
   ],
   "cell_type": "markdown",
   "metadata": {}
  },
  {
   "cell_type": "code",
   "execution_count": null,
   "metadata": {},
   "outputs": [],
   "source": [
    "catkin_create_pkg rubot_opencv std_msgs sensor_msgs opencv2 cv_bridge rospy"
   ]
  },
  {
   "source": [
    "add the \"image_pub_sub.py\" file in src folder of \"usbcam_opencv\" package"
   ],
   "cell_type": "markdown",
   "metadata": {}
  },
  {
   "cell_type": "code",
   "execution_count": null,
   "metadata": {},
   "outputs": [],
   "source": [
    "roscore"
   ]
  },
  {
   "cell_type": "code",
   "execution_count": null,
   "metadata": {},
   "outputs": [],
   "source": [
    "rosrun usb_cam usb_cam_node _pixel_format:=yuyv"
   ]
  },
  {
   "source": [
    "To verify if the USB cam is working:"
   ],
   "cell_type": "markdown",
   "metadata": {}
  },
  {
   "cell_type": "code",
   "execution_count": null,
   "metadata": {},
   "outputs": [],
   "source": [
    "rosrun image_view image_view image:=/usb_cam/image_raw"
   ]
  },
  {
   "source": [
    "You can run our program"
   ],
   "cell_type": "markdown",
   "metadata": {}
  },
  {
   "cell_type": "code",
   "execution_count": null,
   "metadata": {},
   "outputs": [],
   "source": [
    "rosrun usbcam_opencv image_pub_sub.py"
   ]
  },
  {
   "source": [
    "#### gopigo3 robot\n",
    "\n",
    "In gopigo3_rbpi_ws you have all the packages needed for OpenCV.\n",
    "You have created a \"autonomous_robots\" package with \"script\" folder.\n",
    "copy the \"image_pub_sub.py\" file.\n",
    "\n",
    "run a launch file to open raspicam "
   ],
   "cell_type": "markdown",
   "metadata": {}
  },
  {
   "cell_type": "code",
   "execution_count": null,
   "metadata": {},
   "outputs": [],
   "source": [
    "roslaunch raspicam_node camerav2_1280x960_10fps.launch enable_raw:=true camera_frame_id:=\"laser_frame\""
   ]
  },
  {
   "source": [
    "run now the python file"
   ],
   "cell_type": "markdown",
   "metadata": {}
  },
  {
   "cell_type": "code",
   "execution_count": null,
   "metadata": {},
   "outputs": [],
   "source": [
    "rosrun autonomous_robots image_pub_sub.py"
   ]
  }
 ]
}